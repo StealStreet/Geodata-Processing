{
 "cells": [
  {
   "cell_type": "markdown",
   "metadata": {},
   "source": [
    "## Python Basics"
   ]
  },
  {
   "cell_type": "markdown",
   "metadata": {},
   "source": [
    "```\n",
    "Values\n",
    "A value is the fundamental thing that a program manipulates\n",
    "Values can be \"Hello Python\", 1 , True Values have types.\n",
    "```\n",
    "\n",
    "```\n",
    "Variables\n",
    "A variable assigns a name to a value. Variables are nothing more than reserve location that stores values.\n",
    "Python variables does not need explict declaration to reserve memory.\n",
    "```"
   ]
  },
  {
   "cell_type": "code",
   "execution_count": 7,
   "metadata": {},
   "outputs": [],
   "source": [
    "message = \"Hello Geodata Processing\" # variable declaration"
   ]
  },
  {
   "cell_type": "code",
   "execution_count": 8,
   "metadata": {},
   "outputs": [
    {
     "name": "stdout",
     "output_type": "stream",
     "text": [
      "Hello Geodata Processing\n"
     ]
    }
   ],
   "source": [
    "print(message)"
   ]
  },
  {
   "cell_type": "markdown",
   "metadata": {},
   "source": [
    "## Data Types"
   ]
  },
  {
   "cell_type": "markdown",
   "metadata": {},
   "source": [
    "## Numeric Types\n",
    "```\n",
    "Integer Types\n",
    "Floats\n",
    "Complex Numbers\n",
    "Booleans\n",
    "```\n",
    "\n",
    "## Strings\n",
    "```\n",
    "\"Hello Python\"\n",
    "'India'\n",
    "```\n",
    "\n",
    "## Sequence Types\n",
    "```\n",
    "Lists: [1, 2, 3, 4]\n",
    "Tuples: (1, 2, 3, 4)\n",
    "Ranges\n",
    "```"
   ]
  },
  {
   "cell_type": "code",
   "execution_count": 9,
   "metadata": {},
   "outputs": [
    {
     "name": "stdout",
     "output_type": "stream",
     "text": [
      "<class 'float'>\n"
     ]
    }
   ],
   "source": [
    "x = 1\n",
    "y = x + 5\n",
    "z = y\n",
    "a = 10.5\n",
    "b = True\n",
    "x = 12.4\n",
    "\n",
    "print(type(x))"
   ]
  },
  {
   "cell_type": "code",
   "execution_count": 10,
   "metadata": {},
   "outputs": [],
   "source": [
    "planets_in_solar_system = 8 # int, pluto used to be the 9th planet\n",
    "distance_to_alpha_centauri = 4.367 # float, lightyears\n",
    "can_liftoff = True\n",
    "shuttle_landed_on_the_moon = \"Apollo 11\" # string"
   ]
  },
  {
   "cell_type": "code",
   "execution_count": null,
   "metadata": {},
   "outputs": [],
   "source": []
  }
 ],
 "metadata": {
  "kernelspec": {
   "display_name": "Python 3",
   "language": "python",
   "name": "python3"
  },
  "language_info": {
   "codemirror_mode": {
    "name": "ipython",
    "version": 3
   },
   "file_extension": ".py",
   "mimetype": "text/x-python",
   "name": "python",
   "nbconvert_exporter": "python",
   "pygments_lexer": "ipython3",
   "version": "3.12.1"
  }
 },
 "nbformat": 4,
 "nbformat_minor": 2
}
