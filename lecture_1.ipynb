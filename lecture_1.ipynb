{
 "cells": [
  {
   "cell_type": "code",
   "execution_count": 1,
   "id": "e2d73ea7-4dde-4976-b5be-9c11a0c52170",
   "metadata": {},
   "outputs": [
    {
     "name": "stdout",
     "output_type": "stream",
     "text": [
      "Hello World\n"
     ]
    }
   ],
   "source": [
    "import numpy as np\n",
    "print(\"Hello World\")"
   ]
  },
  {
   "cell_type": "code",
   "execution_count": null,
   "id": "31fa8a47-a6cb-4eb4-b6b7-bc3e67bd2703",
   "metadata": {},
   "outputs": [],
   "source": [
    "letter = input(\"What's your name?\")\n",
    "\n",
    "while letter == \"hello\":\n",
    "    Print(\"chalo world\")"
   ]
  },
  {
   "cell_type": "code",
   "execution_count": null,
   "id": "54a9852c-a346-423d-bfca-ad1381e59875",
   "metadata": {},
   "outputs": [],
   "source": []
  }
 ],
 "metadata": {
  "kernelspec": {
   "display_name": "Python 3 (ipykernel)",
   "language": "python",
   "name": "python3"
  },
  "language_info": {
   "codemirror_mode": {
    "name": "ipython",
    "version": 3
   },
   "file_extension": ".py",
   "mimetype": "text/x-python",
   "name": "python",
   "nbconvert_exporter": "python",
   "pygments_lexer": "ipython3",
   "version": "3.12.1"
  }
 },
 "nbformat": 4,
 "nbformat_minor": 5
}
